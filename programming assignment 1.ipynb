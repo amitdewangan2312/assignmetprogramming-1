{
 "cells": [
  {
   "cell_type": "code",
   "execution_count": null,
   "id": "2b4fa915",
   "metadata": {},
   "outputs": [],
   "source": [
    "##Write a Python program to print\"Hello python\""
   ]
  },
  {
   "cell_type": "code",
   "execution_count": 1,
   "id": "23eb4832",
   "metadata": {},
   "outputs": [
    {
     "name": "stdout",
     "output_type": "stream",
     "text": [
      "hello python\n"
     ]
    }
   ],
   "source": [
    "print(\"hello python\")"
   ]
  },
  {
   "cell_type": "code",
   "execution_count": null,
   "id": "1634ac7b",
   "metadata": {},
   "outputs": [],
   "source": [
    "##Write a Python program to do arithmetical operations addition and division.?"
   ]
  },
  {
   "cell_type": "code",
   "execution_count": 2,
   "id": "0ecfe23a",
   "metadata": {},
   "outputs": [
    {
     "name": "stdout",
     "output_type": "stream",
     "text": [
      "The result of addition is: 15\n",
      "The result of division is: 2.0\n"
     ]
    }
   ],
   "source": [
    "# Define variables\n",
    "a = 10\n",
    "b = 5\n",
    "\n",
    "# Perform addition\n",
    "addition = a + b\n",
    "\n",
    "# Perform division\n",
    "division = a / b\n",
    "\n",
    "# Print results\n",
    "print(\"The result of addition is:\", addition)\n",
    "print(\"The result of division is:\", division)\n",
    "\n",
    "# Program ends"
   ]
  },
  {
   "cell_type": "code",
   "execution_count": null,
   "id": "d358adde",
   "metadata": {},
   "outputs": [],
   "source": [
    "####Write a Python program to find the area of a triangle?"
   ]
  },
  {
   "cell_type": "code",
   "execution_count": 4,
   "id": "84f89718",
   "metadata": {},
   "outputs": [
    {
     "name": "stdout",
     "output_type": "stream",
     "text": [
      "Enter the base of the triangle: 77\n",
      "Enter the height of the triangle: 55\n",
      "2117.5\n"
     ]
    }
   ],
   "source": [
    "base = float(input('Enter the base of the triangle: '))\n",
    "height = float(input('Enter the height of the triangle: '))\n",
    "area = (base * height) / 2\n",
    "print(area)   "
   ]
  },
  {
   "cell_type": "code",
   "execution_count": null,
   "id": "b78d7e50",
   "metadata": {},
   "outputs": [],
   "source": [
    "##Write a Python program to swap two variables?"
   ]
  },
  {
   "cell_type": "code",
   "execution_count": 5,
   "id": "4aa5894f",
   "metadata": {},
   "outputs": [
    {
     "name": "stdout",
     "output_type": "stream",
     "text": [
      "x = 10\n",
      "y = 5\n"
     ]
    }
   ],
   "source": [
    "\n",
    "x = 5\n",
    "y = 10\n",
    "\n",
    "x, y = y, x\n",
    "\n",
    "print('x =',x)\n",
    "print('y =',y)"
   ]
  },
  {
   "cell_type": "code",
   "execution_count": null,
   "id": "09913121",
   "metadata": {},
   "outputs": [],
   "source": [
    "## Write a Python program to generate a random number?"
   ]
  },
  {
   "cell_type": "code",
   "execution_count": 7,
   "id": "a36069df",
   "metadata": {},
   "outputs": [
    {
     "name": "stdout",
     "output_type": "stream",
     "text": [
      "10\n"
     ]
    }
   ],
   "source": [
    "import random\n",
    "\n",
    "# Generate a random number between 0 and 10\n",
    "random_number = random.randint(0,10)\n",
    "\n",
    "print(random_number)"
   ]
  },
  {
   "cell_type": "code",
   "execution_count": null,
   "id": "0687c2fc",
   "metadata": {},
   "outputs": [],
   "source": []
  },
  {
   "cell_type": "code",
   "execution_count": null,
   "id": "bdd2f871",
   "metadata": {},
   "outputs": [],
   "source": []
  }
 ],
 "metadata": {
  "kernelspec": {
   "display_name": "Python 3 (ipykernel)",
   "language": "python",
   "name": "python3"
  },
  "language_info": {
   "codemirror_mode": {
    "name": "ipython",
    "version": 3
   },
   "file_extension": ".py",
   "mimetype": "text/x-python",
   "name": "python",
   "nbconvert_exporter": "python",
   "pygments_lexer": "ipython3",
   "version": "3.9.12"
  }
 },
 "nbformat": 4,
 "nbformat_minor": 5
}
